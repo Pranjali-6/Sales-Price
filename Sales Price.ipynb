{
 "cells": [
  {
   "cell_type": "markdown",
   "id": "10decb13",
   "metadata": {},
   "source": [
    "# Goal\n",
    "It is your job to predict the sales price for each house. For each Id in the test set, you must predict the value of the SalePrice variable. "
   ]
  },
  {
   "cell_type": "markdown",
   "id": "b5654fe1",
   "metadata": {},
   "source": [
    "# Read File"
   ]
  },
  {
   "cell_type": "code",
   "execution_count": 1,
   "id": "b9f0816a",
   "metadata": {
    "scrolled": true
   },
   "outputs": [
    {
     "data": {
      "text/html": [
       "<div>\n",
       "<style scoped>\n",
       "    .dataframe tbody tr th:only-of-type {\n",
       "        vertical-align: middle;\n",
       "    }\n",
       "\n",
       "    .dataframe tbody tr th {\n",
       "        vertical-align: top;\n",
       "    }\n",
       "\n",
       "    .dataframe thead th {\n",
       "        text-align: right;\n",
       "    }\n",
       "</style>\n",
       "<table border=\"1\" class=\"dataframe\">\n",
       "  <thead>\n",
       "    <tr style=\"text-align: right;\">\n",
       "      <th></th>\n",
       "      <th>Id</th>\n",
       "      <th>MSSubClass</th>\n",
       "      <th>MSZoning</th>\n",
       "      <th>LotFrontage</th>\n",
       "      <th>LotArea</th>\n",
       "      <th>Street</th>\n",
       "      <th>Alley</th>\n",
       "      <th>LotShape</th>\n",
       "      <th>LandContour</th>\n",
       "      <th>Utilities</th>\n",
       "      <th>...</th>\n",
       "      <th>PoolArea</th>\n",
       "      <th>PoolQC</th>\n",
       "      <th>Fence</th>\n",
       "      <th>MiscFeature</th>\n",
       "      <th>MiscVal</th>\n",
       "      <th>MoSold</th>\n",
       "      <th>YrSold</th>\n",
       "      <th>SaleType</th>\n",
       "      <th>SaleCondition</th>\n",
       "      <th>SalePrice</th>\n",
       "    </tr>\n",
       "  </thead>\n",
       "  <tbody>\n",
       "    <tr>\n",
       "      <th>0</th>\n",
       "      <td>1</td>\n",
       "      <td>60</td>\n",
       "      <td>RL</td>\n",
       "      <td>65.0</td>\n",
       "      <td>8450</td>\n",
       "      <td>Pave</td>\n",
       "      <td>NaN</td>\n",
       "      <td>Reg</td>\n",
       "      <td>Lvl</td>\n",
       "      <td>AllPub</td>\n",
       "      <td>...</td>\n",
       "      <td>0</td>\n",
       "      <td>NaN</td>\n",
       "      <td>NaN</td>\n",
       "      <td>NaN</td>\n",
       "      <td>0</td>\n",
       "      <td>2</td>\n",
       "      <td>2008</td>\n",
       "      <td>WD</td>\n",
       "      <td>Normal</td>\n",
       "      <td>208500</td>\n",
       "    </tr>\n",
       "    <tr>\n",
       "      <th>1</th>\n",
       "      <td>2</td>\n",
       "      <td>20</td>\n",
       "      <td>RL</td>\n",
       "      <td>80.0</td>\n",
       "      <td>9600</td>\n",
       "      <td>Pave</td>\n",
       "      <td>NaN</td>\n",
       "      <td>Reg</td>\n",
       "      <td>Lvl</td>\n",
       "      <td>AllPub</td>\n",
       "      <td>...</td>\n",
       "      <td>0</td>\n",
       "      <td>NaN</td>\n",
       "      <td>NaN</td>\n",
       "      <td>NaN</td>\n",
       "      <td>0</td>\n",
       "      <td>5</td>\n",
       "      <td>2007</td>\n",
       "      <td>WD</td>\n",
       "      <td>Normal</td>\n",
       "      <td>181500</td>\n",
       "    </tr>\n",
       "    <tr>\n",
       "      <th>2</th>\n",
       "      <td>3</td>\n",
       "      <td>60</td>\n",
       "      <td>RL</td>\n",
       "      <td>68.0</td>\n",
       "      <td>11250</td>\n",
       "      <td>Pave</td>\n",
       "      <td>NaN</td>\n",
       "      <td>IR1</td>\n",
       "      <td>Lvl</td>\n",
       "      <td>AllPub</td>\n",
       "      <td>...</td>\n",
       "      <td>0</td>\n",
       "      <td>NaN</td>\n",
       "      <td>NaN</td>\n",
       "      <td>NaN</td>\n",
       "      <td>0</td>\n",
       "      <td>9</td>\n",
       "      <td>2008</td>\n",
       "      <td>WD</td>\n",
       "      <td>Normal</td>\n",
       "      <td>223500</td>\n",
       "    </tr>\n",
       "    <tr>\n",
       "      <th>3</th>\n",
       "      <td>4</td>\n",
       "      <td>70</td>\n",
       "      <td>RL</td>\n",
       "      <td>60.0</td>\n",
       "      <td>9550</td>\n",
       "      <td>Pave</td>\n",
       "      <td>NaN</td>\n",
       "      <td>IR1</td>\n",
       "      <td>Lvl</td>\n",
       "      <td>AllPub</td>\n",
       "      <td>...</td>\n",
       "      <td>0</td>\n",
       "      <td>NaN</td>\n",
       "      <td>NaN</td>\n",
       "      <td>NaN</td>\n",
       "      <td>0</td>\n",
       "      <td>2</td>\n",
       "      <td>2006</td>\n",
       "      <td>WD</td>\n",
       "      <td>Abnorml</td>\n",
       "      <td>140000</td>\n",
       "    </tr>\n",
       "    <tr>\n",
       "      <th>4</th>\n",
       "      <td>5</td>\n",
       "      <td>60</td>\n",
       "      <td>RL</td>\n",
       "      <td>84.0</td>\n",
       "      <td>14260</td>\n",
       "      <td>Pave</td>\n",
       "      <td>NaN</td>\n",
       "      <td>IR1</td>\n",
       "      <td>Lvl</td>\n",
       "      <td>AllPub</td>\n",
       "      <td>...</td>\n",
       "      <td>0</td>\n",
       "      <td>NaN</td>\n",
       "      <td>NaN</td>\n",
       "      <td>NaN</td>\n",
       "      <td>0</td>\n",
       "      <td>12</td>\n",
       "      <td>2008</td>\n",
       "      <td>WD</td>\n",
       "      <td>Normal</td>\n",
       "      <td>250000</td>\n",
       "    </tr>\n",
       "  </tbody>\n",
       "</table>\n",
       "<p>5 rows × 81 columns</p>\n",
       "</div>"
      ],
      "text/plain": [
       "   Id  MSSubClass MSZoning  LotFrontage  LotArea Street Alley LotShape  \\\n",
       "0   1          60       RL         65.0     8450   Pave   NaN      Reg   \n",
       "1   2          20       RL         80.0     9600   Pave   NaN      Reg   \n",
       "2   3          60       RL         68.0    11250   Pave   NaN      IR1   \n",
       "3   4          70       RL         60.0     9550   Pave   NaN      IR1   \n",
       "4   5          60       RL         84.0    14260   Pave   NaN      IR1   \n",
       "\n",
       "  LandContour Utilities  ... PoolArea PoolQC Fence MiscFeature MiscVal MoSold  \\\n",
       "0         Lvl    AllPub  ...        0    NaN   NaN         NaN       0      2   \n",
       "1         Lvl    AllPub  ...        0    NaN   NaN         NaN       0      5   \n",
       "2         Lvl    AllPub  ...        0    NaN   NaN         NaN       0      9   \n",
       "3         Lvl    AllPub  ...        0    NaN   NaN         NaN       0      2   \n",
       "4         Lvl    AllPub  ...        0    NaN   NaN         NaN       0     12   \n",
       "\n",
       "  YrSold  SaleType  SaleCondition  SalePrice  \n",
       "0   2008        WD         Normal     208500  \n",
       "1   2007        WD         Normal     181500  \n",
       "2   2008        WD         Normal     223500  \n",
       "3   2006        WD        Abnorml     140000  \n",
       "4   2008        WD         Normal     250000  \n",
       "\n",
       "[5 rows x 81 columns]"
      ]
     },
     "execution_count": 1,
     "metadata": {},
     "output_type": "execute_result"
    }
   ],
   "source": [
    "import pandas as pd\n",
    "A = pd.read_csv(\"Project 1_training_set.csv\")\n",
    "testdata = pd.read_csv(\"Project 1_testing_set.csv\")\n",
    "A.head()"
   ]
  },
  {
   "cell_type": "markdown",
   "id": "53a014ab",
   "metadata": {},
   "source": [
    "# Missing data "
   ]
  },
  {
   "cell_type": "code",
   "execution_count": 2,
   "id": "16d8b3bc",
   "metadata": {
    "scrolled": true
   },
   "outputs": [
    {
     "name": "stdout",
     "output_type": "stream",
     "text": [
      "<class 'pandas.core.frame.DataFrame'>\n",
      "RangeIndex: 1460 entries, 0 to 1459\n",
      "Data columns (total 81 columns):\n",
      " #   Column         Non-Null Count  Dtype  \n",
      "---  ------         --------------  -----  \n",
      " 0   Id             1460 non-null   int64  \n",
      " 1   MSSubClass     1460 non-null   int64  \n",
      " 2   MSZoning       1460 non-null   object \n",
      " 3   LotFrontage    1201 non-null   float64\n",
      " 4   LotArea        1460 non-null   int64  \n",
      " 5   Street         1460 non-null   object \n",
      " 6   Alley          91 non-null     object \n",
      " 7   LotShape       1460 non-null   object \n",
      " 8   LandContour    1460 non-null   object \n",
      " 9   Utilities      1460 non-null   object \n",
      " 10  LotConfig      1460 non-null   object \n",
      " 11  LandSlope      1460 non-null   object \n",
      " 12  Neighborhood   1460 non-null   object \n",
      " 13  Condition1     1460 non-null   object \n",
      " 14  Condition2     1460 non-null   object \n",
      " 15  BldgType       1460 non-null   object \n",
      " 16  HouseStyle     1460 non-null   object \n",
      " 17  OverallQual    1460 non-null   int64  \n",
      " 18  OverallCond    1460 non-null   int64  \n",
      " 19  YearBuilt      1460 non-null   int64  \n",
      " 20  YearRemodAdd   1460 non-null   int64  \n",
      " 21  RoofStyle      1460 non-null   object \n",
      " 22  RoofMatl       1460 non-null   object \n",
      " 23  Exterior1st    1460 non-null   object \n",
      " 24  Exterior2nd    1460 non-null   object \n",
      " 25  MasVnrType     1452 non-null   object \n",
      " 26  MasVnrArea     1452 non-null   float64\n",
      " 27  ExterQual      1460 non-null   object \n",
      " 28  ExterCond      1460 non-null   object \n",
      " 29  Foundation     1460 non-null   object \n",
      " 30  BsmtQual       1423 non-null   object \n",
      " 31  BsmtCond       1423 non-null   object \n",
      " 32  BsmtExposure   1422 non-null   object \n",
      " 33  BsmtFinType1   1423 non-null   object \n",
      " 34  BsmtFinSF1     1460 non-null   int64  \n",
      " 35  BsmtFinType2   1422 non-null   object \n",
      " 36  BsmtFinSF2     1460 non-null   int64  \n",
      " 37  BsmtUnfSF      1460 non-null   int64  \n",
      " 38  TotalBsmtSF    1460 non-null   int64  \n",
      " 39  Heating        1460 non-null   object \n",
      " 40  HeatingQC      1460 non-null   object \n",
      " 41  CentralAir     1460 non-null   object \n",
      " 42  Electrical     1459 non-null   object \n",
      " 43  1stFlrSF       1460 non-null   int64  \n",
      " 44  2ndFlrSF       1460 non-null   int64  \n",
      " 45  LowQualFinSF   1460 non-null   int64  \n",
      " 46  GrLivArea      1460 non-null   int64  \n",
      " 47  BsmtFullBath   1460 non-null   int64  \n",
      " 48  BsmtHalfBath   1460 non-null   int64  \n",
      " 49  FullBath       1460 non-null   int64  \n",
      " 50  HalfBath       1460 non-null   int64  \n",
      " 51  BedroomAbvGr   1460 non-null   int64  \n",
      " 52  KitchenAbvGr   1460 non-null   int64  \n",
      " 53  KitchenQual    1460 non-null   object \n",
      " 54  TotRmsAbvGrd   1460 non-null   int64  \n",
      " 55  Functional     1460 non-null   object \n",
      " 56  Fireplaces     1460 non-null   int64  \n",
      " 57  FireplaceQu    770 non-null    object \n",
      " 58  GarageType     1379 non-null   object \n",
      " 59  GarageYrBlt    1379 non-null   float64\n",
      " 60  GarageFinish   1379 non-null   object \n",
      " 61  GarageCars     1460 non-null   int64  \n",
      " 62  GarageArea     1460 non-null   int64  \n",
      " 63  GarageQual     1379 non-null   object \n",
      " 64  GarageCond     1379 non-null   object \n",
      " 65  PavedDrive     1460 non-null   object \n",
      " 66  WoodDeckSF     1460 non-null   int64  \n",
      " 67  OpenPorchSF    1460 non-null   int64  \n",
      " 68  EnclosedPorch  1460 non-null   int64  \n",
      " 69  3SsnPorch      1460 non-null   int64  \n",
      " 70  ScreenPorch    1460 non-null   int64  \n",
      " 71  PoolArea       1460 non-null   int64  \n",
      " 72  PoolQC         7 non-null      object \n",
      " 73  Fence          281 non-null    object \n",
      " 74  MiscFeature    54 non-null     object \n",
      " 75  MiscVal        1460 non-null   int64  \n",
      " 76  MoSold         1460 non-null   int64  \n",
      " 77  YrSold         1460 non-null   int64  \n",
      " 78  SaleType       1460 non-null   object \n",
      " 79  SaleCondition  1460 non-null   object \n",
      " 80  SalePrice      1460 non-null   int64  \n",
      "dtypes: float64(3), int64(35), object(43)\n",
      "memory usage: 924.0+ KB\n"
     ]
    }
   ],
   "source": [
    "A.info()"
   ]
  },
  {
   "cell_type": "code",
   "execution_count": 3,
   "id": "a1e56125",
   "metadata": {},
   "outputs": [],
   "source": [
    "A.Alley = A[\"Alley\"].fillna(\"No Alley\")\n",
    "A.MasVnrType= A[\"MasVnrType\"].fillna(\"NoMas\")\n",
    "A.BsmtQual= A[\"BsmtQual\"].fillna(\"NoBsmt\")\n",
    "A.BsmtCond= A[\"BsmtCond\"].fillna(\"NoBsmt\")\n",
    "A.BsmtExposure= A[\"BsmtExposure\"].fillna(\"NoBsmt\")\n",
    "A.BsmtFinType1= A[\"BsmtFinType1\"].fillna(\"NoBsmt\")\n",
    "A.BsmtFinType2= A[\"BsmtFinType2\"].fillna(\"NoBsmt\")\n",
    "A.Electrical= A[\"Electrical\"].fillna(A.Electrical.mode()[0])\n",
    "A.FireplaceQu= A[\"FireplaceQu\"].fillna(\"Nofire\")\n",
    "A.GarageType= A[\"GarageType\"].fillna(\"NoGarage\")\n",
    "A.GarageFinish= A[\"GarageFinish\"].fillna(\"NoGarage\")\n",
    "A.GarageQual= A[\"GarageQual\"].fillna(\"NoGarage\")\n",
    "A.GarageCond= A[\"GarageCond\"].fillna(\"NoGarage\")\n",
    "A.PoolQC= A[\"PoolQC\"].fillna(\"NoPool\")\n",
    "A.Fence= A[\"Fence\"].fillna(\"NoFence\")\n",
    "A.MiscFeature= A[\"MiscFeature\"].fillna(\"Nofeature\")\n",
    "\n",
    "testdata.Alley = testdata[\"Alley\"].fillna(\"No Alley\")\n",
    "testdata.MasVnrType= testdata[\"MasVnrType\"].fillna(\"NoMas\")\n",
    "testdata.BsmtQual= testdata[\"BsmtQual\"].fillna(\"NoBsmt\")\n",
    "testdata.BsmtCond= testdata[\"BsmtCond\"].fillna(\"NoBsmt\")\n",
    "testdata.BsmtExposure= testdata[\"BsmtExposure\"].fillna(\"NoBsmt\")\n",
    "testdata.BsmtFinType1= testdata[\"BsmtFinType1\"].fillna(\"NoBsmt\")\n",
    "testdata.BsmtFinType2= testdata[\"BsmtFinType2\"].fillna(\"NoBsmt\")\n",
    "testdata.Electrical= testdata[\"Electrical\"].fillna(A.Electrical.mode()[0])\n",
    "testdata.FireplaceQu= testdata[\"FireplaceQu\"].fillna(\"Nofire\")\n",
    "testdata.GarageType= testdata[\"GarageType\"].fillna(\"NoGarage\")\n",
    "testdata.GarageFinish= testdata[\"GarageFinish\"].fillna(\"NoGarage\")\n",
    "testdata.GarageQual= testdata[\"GarageQual\"].fillna(\"NoGarage\")\n",
    "testdata.GarageCond= testdata[\"GarageCond\"].fillna(\"NoGarage\")\n",
    "testdata.PoolQC= testdata[\"PoolQC\"].fillna(\"NoPool\")\n",
    "testdata.Fence= testdata[\"Fence\"].fillna(\"NoFence\")\n",
    "testdata.MiscFeature= testdata[\"MiscFeature\"].fillna(\"Nofeature\")"
   ]
  },
  {
   "cell_type": "code",
   "execution_count": 4,
   "id": "1dae6fff",
   "metadata": {},
   "outputs": [],
   "source": [
    "cat = []\n",
    "con = []\n",
    "for i in A.columns:\n",
    "    if(A[i].dtypes != \"object\"):\n",
    "        con.append(i)\n",
    "        x = A[i].mean()\n",
    "        A[i] = A[i].fillna(x)\n",
    "    else:\n",
    "        cat.append(i)\n",
    "        x = A[i].mode()[0]\n",
    "        A[i] = A[i].fillna(x)\n",
    "        \n",
    "for i in testdata.columns:\n",
    "    if(testdata[i].dtypes != \"object\"):\n",
    "        x = testdata[i].mean()\n",
    "        testdata[i] = testdata[i].fillna(x)\n",
    "    else:\n",
    "        x = testdata[i].mode()[0]\n",
    "        testdata[i] = testdata[i].fillna(x)"
   ]
  },
  {
   "cell_type": "code",
   "execution_count": 5,
   "id": "cdc42d29",
   "metadata": {
    "scrolled": true
   },
   "outputs": [
    {
     "data": {
      "text/plain": [
       "Id               0\n",
       "MSSubClass       0\n",
       "MSZoning         0\n",
       "LotFrontage      0\n",
       "LotArea          0\n",
       "                ..\n",
       "MoSold           0\n",
       "YrSold           0\n",
       "SaleType         0\n",
       "SaleCondition    0\n",
       "SalePrice        0\n",
       "Length: 81, dtype: int64"
      ]
     },
     "execution_count": 5,
     "metadata": {},
     "output_type": "execute_result"
    }
   ],
   "source": [
    "A.isna().sum()"
   ]
  },
  {
   "cell_type": "code",
   "execution_count": 6,
   "id": "a43574a4",
   "metadata": {},
   "outputs": [
    {
     "data": {
      "text/plain": [
       "Id               0\n",
       "MSSubClass       0\n",
       "MSZoning         0\n",
       "LotFrontage      0\n",
       "LotArea          0\n",
       "                ..\n",
       "MiscVal          0\n",
       "MoSold           0\n",
       "YrSold           0\n",
       "SaleType         0\n",
       "SaleCondition    0\n",
       "Length: 80, dtype: int64"
      ]
     },
     "execution_count": 6,
     "metadata": {},
     "output_type": "execute_result"
    }
   ],
   "source": [
    "testdata.isna().sum()"
   ]
  },
  {
   "cell_type": "markdown",
   "id": "6ecaf793",
   "metadata": {},
   "source": [
    "# EDA"
   ]
  },
  {
   "cell_type": "raw",
   "id": "c98f276b",
   "metadata": {},
   "source": [
    "Y con ~ X con --> corr()\n",
    "Y con ~ X cat --> box plot / ANOVA"
   ]
  },
  {
   "cell_type": "code",
   "execution_count": 7,
   "id": "814265b9",
   "metadata": {},
   "outputs": [],
   "source": [
    "cat = []\n",
    "con = []\n",
    "for i in A.columns:\n",
    "    if(A[i].dtypes == \"object\"):\n",
    "        cat.append(i)\n",
    "    else:\n",
    "        con.append(i)"
   ]
  },
  {
   "cell_type": "code",
   "execution_count": 8,
   "id": "d2fc4929",
   "metadata": {
    "scrolled": true
   },
   "outputs": [
    {
     "data": {
      "text/html": [
       "<div>\n",
       "<style scoped>\n",
       "    .dataframe tbody tr th:only-of-type {\n",
       "        vertical-align: middle;\n",
       "    }\n",
       "\n",
       "    .dataframe tbody tr th {\n",
       "        vertical-align: top;\n",
       "    }\n",
       "\n",
       "    .dataframe thead th {\n",
       "        text-align: right;\n",
       "    }\n",
       "</style>\n",
       "<table border=\"1\" class=\"dataframe\">\n",
       "  <thead>\n",
       "    <tr style=\"text-align: right;\">\n",
       "      <th></th>\n",
       "      <th>SalePrice</th>\n",
       "    </tr>\n",
       "  </thead>\n",
       "  <tbody>\n",
       "    <tr>\n",
       "      <th>KitchenAbvGr</th>\n",
       "      <td>-0.135907</td>\n",
       "    </tr>\n",
       "    <tr>\n",
       "      <th>EnclosedPorch</th>\n",
       "      <td>-0.128578</td>\n",
       "    </tr>\n",
       "    <tr>\n",
       "      <th>MSSubClass</th>\n",
       "      <td>-0.084284</td>\n",
       "    </tr>\n",
       "    <tr>\n",
       "      <th>OverallCond</th>\n",
       "      <td>-0.077856</td>\n",
       "    </tr>\n",
       "    <tr>\n",
       "      <th>YrSold</th>\n",
       "      <td>-0.028923</td>\n",
       "    </tr>\n",
       "    <tr>\n",
       "      <th>LowQualFinSF</th>\n",
       "      <td>-0.025606</td>\n",
       "    </tr>\n",
       "    <tr>\n",
       "      <th>Id</th>\n",
       "      <td>-0.021917</td>\n",
       "    </tr>\n",
       "    <tr>\n",
       "      <th>MiscVal</th>\n",
       "      <td>-0.021190</td>\n",
       "    </tr>\n",
       "    <tr>\n",
       "      <th>BsmtHalfBath</th>\n",
       "      <td>-0.016844</td>\n",
       "    </tr>\n",
       "    <tr>\n",
       "      <th>BsmtFinSF2</th>\n",
       "      <td>-0.011378</td>\n",
       "    </tr>\n",
       "    <tr>\n",
       "      <th>3SsnPorch</th>\n",
       "      <td>0.044584</td>\n",
       "    </tr>\n",
       "    <tr>\n",
       "      <th>MoSold</th>\n",
       "      <td>0.046432</td>\n",
       "    </tr>\n",
       "    <tr>\n",
       "      <th>PoolArea</th>\n",
       "      <td>0.092404</td>\n",
       "    </tr>\n",
       "    <tr>\n",
       "      <th>ScreenPorch</th>\n",
       "      <td>0.111447</td>\n",
       "    </tr>\n",
       "    <tr>\n",
       "      <th>BedroomAbvGr</th>\n",
       "      <td>0.168213</td>\n",
       "    </tr>\n",
       "    <tr>\n",
       "      <th>BsmtUnfSF</th>\n",
       "      <td>0.214479</td>\n",
       "    </tr>\n",
       "    <tr>\n",
       "      <th>BsmtFullBath</th>\n",
       "      <td>0.227122</td>\n",
       "    </tr>\n",
       "    <tr>\n",
       "      <th>LotArea</th>\n",
       "      <td>0.263843</td>\n",
       "    </tr>\n",
       "    <tr>\n",
       "      <th>HalfBath</th>\n",
       "      <td>0.284108</td>\n",
       "    </tr>\n",
       "    <tr>\n",
       "      <th>OpenPorchSF</th>\n",
       "      <td>0.315856</td>\n",
       "    </tr>\n",
       "    <tr>\n",
       "      <th>2ndFlrSF</th>\n",
       "      <td>0.319334</td>\n",
       "    </tr>\n",
       "    <tr>\n",
       "      <th>WoodDeckSF</th>\n",
       "      <td>0.324413</td>\n",
       "    </tr>\n",
       "    <tr>\n",
       "      <th>LotFrontage</th>\n",
       "      <td>0.334901</td>\n",
       "    </tr>\n",
       "    <tr>\n",
       "      <th>BsmtFinSF1</th>\n",
       "      <td>0.386420</td>\n",
       "    </tr>\n",
       "    <tr>\n",
       "      <th>Fireplaces</th>\n",
       "      <td>0.466929</td>\n",
       "    </tr>\n",
       "    <tr>\n",
       "      <th>GarageYrBlt</th>\n",
       "      <td>0.470177</td>\n",
       "    </tr>\n",
       "    <tr>\n",
       "      <th>MasVnrArea</th>\n",
       "      <td>0.475241</td>\n",
       "    </tr>\n",
       "    <tr>\n",
       "      <th>YearRemodAdd</th>\n",
       "      <td>0.507101</td>\n",
       "    </tr>\n",
       "    <tr>\n",
       "      <th>YearBuilt</th>\n",
       "      <td>0.522897</td>\n",
       "    </tr>\n",
       "    <tr>\n",
       "      <th>TotRmsAbvGrd</th>\n",
       "      <td>0.533723</td>\n",
       "    </tr>\n",
       "    <tr>\n",
       "      <th>FullBath</th>\n",
       "      <td>0.560664</td>\n",
       "    </tr>\n",
       "    <tr>\n",
       "      <th>1stFlrSF</th>\n",
       "      <td>0.605852</td>\n",
       "    </tr>\n",
       "    <tr>\n",
       "      <th>TotalBsmtSF</th>\n",
       "      <td>0.613581</td>\n",
       "    </tr>\n",
       "    <tr>\n",
       "      <th>GarageArea</th>\n",
       "      <td>0.623431</td>\n",
       "    </tr>\n",
       "    <tr>\n",
       "      <th>GarageCars</th>\n",
       "      <td>0.640409</td>\n",
       "    </tr>\n",
       "    <tr>\n",
       "      <th>GrLivArea</th>\n",
       "      <td>0.708624</td>\n",
       "    </tr>\n",
       "    <tr>\n",
       "      <th>OverallQual</th>\n",
       "      <td>0.790982</td>\n",
       "    </tr>\n",
       "    <tr>\n",
       "      <th>SalePrice</th>\n",
       "      <td>1.000000</td>\n",
       "    </tr>\n",
       "  </tbody>\n",
       "</table>\n",
       "</div>"
      ],
      "text/plain": [
       "               SalePrice\n",
       "KitchenAbvGr   -0.135907\n",
       "EnclosedPorch  -0.128578\n",
       "MSSubClass     -0.084284\n",
       "OverallCond    -0.077856\n",
       "YrSold         -0.028923\n",
       "LowQualFinSF   -0.025606\n",
       "Id             -0.021917\n",
       "MiscVal        -0.021190\n",
       "BsmtHalfBath   -0.016844\n",
       "BsmtFinSF2     -0.011378\n",
       "3SsnPorch       0.044584\n",
       "MoSold          0.046432\n",
       "PoolArea        0.092404\n",
       "ScreenPorch     0.111447\n",
       "BedroomAbvGr    0.168213\n",
       "BsmtUnfSF       0.214479\n",
       "BsmtFullBath    0.227122\n",
       "LotArea         0.263843\n",
       "HalfBath        0.284108\n",
       "OpenPorchSF     0.315856\n",
       "2ndFlrSF        0.319334\n",
       "WoodDeckSF      0.324413\n",
       "LotFrontage     0.334901\n",
       "BsmtFinSF1      0.386420\n",
       "Fireplaces      0.466929\n",
       "GarageYrBlt     0.470177\n",
       "MasVnrArea      0.475241\n",
       "YearRemodAdd    0.507101\n",
       "YearBuilt       0.522897\n",
       "TotRmsAbvGrd    0.533723\n",
       "FullBath        0.560664\n",
       "1stFlrSF        0.605852\n",
       "TotalBsmtSF     0.613581\n",
       "GarageArea      0.623431\n",
       "GarageCars      0.640409\n",
       "GrLivArea       0.708624\n",
       "OverallQual     0.790982\n",
       "SalePrice       1.000000"
      ]
     },
     "execution_count": 8,
     "metadata": {},
     "output_type": "execute_result"
    }
   ],
   "source": [
    "A.corr().sort_values(by = [\"SalePrice\"])[[\"SalePrice\"]]"
   ]
  },
  {
   "cell_type": "markdown",
   "id": "ccb20c36",
   "metadata": {},
   "source": [
    "# Define X & Y"
   ]
  },
  {
   "cell_type": "code",
   "execution_count": 9,
   "id": "c3dcfc05",
   "metadata": {},
   "outputs": [],
   "source": [
    "Y = A.SalePrice\n",
    "X = A.drop(labels=[\"Id\", \"SalePrice\"],axis=1)"
   ]
  },
  {
   "cell_type": "markdown",
   "id": "ae509175",
   "metadata": {},
   "source": [
    "# Remove Outliers"
   ]
  },
  {
   "cell_type": "code",
   "execution_count": 10,
   "id": "330c6275",
   "metadata": {},
   "outputs": [],
   "source": [
    "from sklearn.preprocessing import StandardScaler\n",
    "ss = StandardScaler()\n",
    "X1 = pd.DataFrame(ss.fit_transform(A[con]),columns = con)\n",
    "X2 = []\n",
    "\n",
    "for i in con:\n",
    "    X2.extend(list(X1[X1[i] > 3].index))\n",
    "    X2.extend(list(X1[X1[i] < -3].index))\n",
    "from numpy import unique\n",
    "OL = list(unique(X2))\n",
    "X = X.drop(index = OL,axis = 0)\n",
    "Y = Y.drop(index = OL, axis = 0)"
   ]
  },
  {
   "cell_type": "code",
   "execution_count": 11,
   "id": "b607a38e",
   "metadata": {
    "scrolled": false
   },
   "outputs": [
    {
     "data": {
      "text/html": [
       "<div>\n",
       "<style scoped>\n",
       "    .dataframe tbody tr th:only-of-type {\n",
       "        vertical-align: middle;\n",
       "    }\n",
       "\n",
       "    .dataframe tbody tr th {\n",
       "        vertical-align: top;\n",
       "    }\n",
       "\n",
       "    .dataframe thead th {\n",
       "        text-align: right;\n",
       "    }\n",
       "</style>\n",
       "<table border=\"1\" class=\"dataframe\">\n",
       "  <thead>\n",
       "    <tr style=\"text-align: right;\">\n",
       "      <th></th>\n",
       "      <th>MSSubClass</th>\n",
       "      <th>MSZoning</th>\n",
       "      <th>LotFrontage</th>\n",
       "      <th>LotArea</th>\n",
       "      <th>Street</th>\n",
       "      <th>Alley</th>\n",
       "      <th>LotShape</th>\n",
       "      <th>LandContour</th>\n",
       "      <th>Utilities</th>\n",
       "      <th>LotConfig</th>\n",
       "      <th>...</th>\n",
       "      <th>ScreenPorch</th>\n",
       "      <th>PoolArea</th>\n",
       "      <th>PoolQC</th>\n",
       "      <th>Fence</th>\n",
       "      <th>MiscFeature</th>\n",
       "      <th>MiscVal</th>\n",
       "      <th>MoSold</th>\n",
       "      <th>YrSold</th>\n",
       "      <th>SaleType</th>\n",
       "      <th>SaleCondition</th>\n",
       "    </tr>\n",
       "  </thead>\n",
       "  <tbody>\n",
       "    <tr>\n",
       "      <th>0</th>\n",
       "      <td>60</td>\n",
       "      <td>RL</td>\n",
       "      <td>65.0</td>\n",
       "      <td>8450</td>\n",
       "      <td>Pave</td>\n",
       "      <td>No Alley</td>\n",
       "      <td>Reg</td>\n",
       "      <td>Lvl</td>\n",
       "      <td>AllPub</td>\n",
       "      <td>Inside</td>\n",
       "      <td>...</td>\n",
       "      <td>0</td>\n",
       "      <td>0</td>\n",
       "      <td>NoPool</td>\n",
       "      <td>NoFence</td>\n",
       "      <td>Nofeature</td>\n",
       "      <td>0</td>\n",
       "      <td>2</td>\n",
       "      <td>2008</td>\n",
       "      <td>WD</td>\n",
       "      <td>Normal</td>\n",
       "    </tr>\n",
       "    <tr>\n",
       "      <th>2</th>\n",
       "      <td>60</td>\n",
       "      <td>RL</td>\n",
       "      <td>68.0</td>\n",
       "      <td>11250</td>\n",
       "      <td>Pave</td>\n",
       "      <td>No Alley</td>\n",
       "      <td>IR1</td>\n",
       "      <td>Lvl</td>\n",
       "      <td>AllPub</td>\n",
       "      <td>Inside</td>\n",
       "      <td>...</td>\n",
       "      <td>0</td>\n",
       "      <td>0</td>\n",
       "      <td>NoPool</td>\n",
       "      <td>NoFence</td>\n",
       "      <td>Nofeature</td>\n",
       "      <td>0</td>\n",
       "      <td>9</td>\n",
       "      <td>2008</td>\n",
       "      <td>WD</td>\n",
       "      <td>Normal</td>\n",
       "    </tr>\n",
       "    <tr>\n",
       "      <th>4</th>\n",
       "      <td>60</td>\n",
       "      <td>RL</td>\n",
       "      <td>84.0</td>\n",
       "      <td>14260</td>\n",
       "      <td>Pave</td>\n",
       "      <td>No Alley</td>\n",
       "      <td>IR1</td>\n",
       "      <td>Lvl</td>\n",
       "      <td>AllPub</td>\n",
       "      <td>FR2</td>\n",
       "      <td>...</td>\n",
       "      <td>0</td>\n",
       "      <td>0</td>\n",
       "      <td>NoPool</td>\n",
       "      <td>NoFence</td>\n",
       "      <td>Nofeature</td>\n",
       "      <td>0</td>\n",
       "      <td>12</td>\n",
       "      <td>2008</td>\n",
       "      <td>WD</td>\n",
       "      <td>Normal</td>\n",
       "    </tr>\n",
       "    <tr>\n",
       "      <th>6</th>\n",
       "      <td>20</td>\n",
       "      <td>RL</td>\n",
       "      <td>75.0</td>\n",
       "      <td>10084</td>\n",
       "      <td>Pave</td>\n",
       "      <td>No Alley</td>\n",
       "      <td>Reg</td>\n",
       "      <td>Lvl</td>\n",
       "      <td>AllPub</td>\n",
       "      <td>Inside</td>\n",
       "      <td>...</td>\n",
       "      <td>0</td>\n",
       "      <td>0</td>\n",
       "      <td>NoPool</td>\n",
       "      <td>NoFence</td>\n",
       "      <td>Nofeature</td>\n",
       "      <td>0</td>\n",
       "      <td>8</td>\n",
       "      <td>2007</td>\n",
       "      <td>WD</td>\n",
       "      <td>Normal</td>\n",
       "    </tr>\n",
       "    <tr>\n",
       "      <th>10</th>\n",
       "      <td>20</td>\n",
       "      <td>RL</td>\n",
       "      <td>70.0</td>\n",
       "      <td>11200</td>\n",
       "      <td>Pave</td>\n",
       "      <td>No Alley</td>\n",
       "      <td>Reg</td>\n",
       "      <td>Lvl</td>\n",
       "      <td>AllPub</td>\n",
       "      <td>Inside</td>\n",
       "      <td>...</td>\n",
       "      <td>0</td>\n",
       "      <td>0</td>\n",
       "      <td>NoPool</td>\n",
       "      <td>NoFence</td>\n",
       "      <td>Nofeature</td>\n",
       "      <td>0</td>\n",
       "      <td>2</td>\n",
       "      <td>2008</td>\n",
       "      <td>WD</td>\n",
       "      <td>Normal</td>\n",
       "    </tr>\n",
       "    <tr>\n",
       "      <th>...</th>\n",
       "      <td>...</td>\n",
       "      <td>...</td>\n",
       "      <td>...</td>\n",
       "      <td>...</td>\n",
       "      <td>...</td>\n",
       "      <td>...</td>\n",
       "      <td>...</td>\n",
       "      <td>...</td>\n",
       "      <td>...</td>\n",
       "      <td>...</td>\n",
       "      <td>...</td>\n",
       "      <td>...</td>\n",
       "      <td>...</td>\n",
       "      <td>...</td>\n",
       "      <td>...</td>\n",
       "      <td>...</td>\n",
       "      <td>...</td>\n",
       "      <td>...</td>\n",
       "      <td>...</td>\n",
       "      <td>...</td>\n",
       "      <td>...</td>\n",
       "    </tr>\n",
       "    <tr>\n",
       "      <th>1452</th>\n",
       "      <td>180</td>\n",
       "      <td>RM</td>\n",
       "      <td>35.0</td>\n",
       "      <td>3675</td>\n",
       "      <td>Pave</td>\n",
       "      <td>No Alley</td>\n",
       "      <td>Reg</td>\n",
       "      <td>Lvl</td>\n",
       "      <td>AllPub</td>\n",
       "      <td>Inside</td>\n",
       "      <td>...</td>\n",
       "      <td>0</td>\n",
       "      <td>0</td>\n",
       "      <td>NoPool</td>\n",
       "      <td>NoFence</td>\n",
       "      <td>Nofeature</td>\n",
       "      <td>0</td>\n",
       "      <td>5</td>\n",
       "      <td>2006</td>\n",
       "      <td>WD</td>\n",
       "      <td>Normal</td>\n",
       "    </tr>\n",
       "    <tr>\n",
       "      <th>1453</th>\n",
       "      <td>20</td>\n",
       "      <td>RL</td>\n",
       "      <td>90.0</td>\n",
       "      <td>17217</td>\n",
       "      <td>Pave</td>\n",
       "      <td>No Alley</td>\n",
       "      <td>Reg</td>\n",
       "      <td>Lvl</td>\n",
       "      <td>AllPub</td>\n",
       "      <td>Inside</td>\n",
       "      <td>...</td>\n",
       "      <td>0</td>\n",
       "      <td>0</td>\n",
       "      <td>NoPool</td>\n",
       "      <td>NoFence</td>\n",
       "      <td>Nofeature</td>\n",
       "      <td>0</td>\n",
       "      <td>7</td>\n",
       "      <td>2006</td>\n",
       "      <td>WD</td>\n",
       "      <td>Abnorml</td>\n",
       "    </tr>\n",
       "    <tr>\n",
       "      <th>1454</th>\n",
       "      <td>20</td>\n",
       "      <td>FV</td>\n",
       "      <td>62.0</td>\n",
       "      <td>7500</td>\n",
       "      <td>Pave</td>\n",
       "      <td>Pave</td>\n",
       "      <td>Reg</td>\n",
       "      <td>Lvl</td>\n",
       "      <td>AllPub</td>\n",
       "      <td>Inside</td>\n",
       "      <td>...</td>\n",
       "      <td>0</td>\n",
       "      <td>0</td>\n",
       "      <td>NoPool</td>\n",
       "      <td>NoFence</td>\n",
       "      <td>Nofeature</td>\n",
       "      <td>0</td>\n",
       "      <td>10</td>\n",
       "      <td>2009</td>\n",
       "      <td>WD</td>\n",
       "      <td>Normal</td>\n",
       "    </tr>\n",
       "    <tr>\n",
       "      <th>1455</th>\n",
       "      <td>60</td>\n",
       "      <td>RL</td>\n",
       "      <td>62.0</td>\n",
       "      <td>7917</td>\n",
       "      <td>Pave</td>\n",
       "      <td>No Alley</td>\n",
       "      <td>Reg</td>\n",
       "      <td>Lvl</td>\n",
       "      <td>AllPub</td>\n",
       "      <td>Inside</td>\n",
       "      <td>...</td>\n",
       "      <td>0</td>\n",
       "      <td>0</td>\n",
       "      <td>NoPool</td>\n",
       "      <td>NoFence</td>\n",
       "      <td>Nofeature</td>\n",
       "      <td>0</td>\n",
       "      <td>8</td>\n",
       "      <td>2007</td>\n",
       "      <td>WD</td>\n",
       "      <td>Normal</td>\n",
       "    </tr>\n",
       "    <tr>\n",
       "      <th>1456</th>\n",
       "      <td>20</td>\n",
       "      <td>RL</td>\n",
       "      <td>85.0</td>\n",
       "      <td>13175</td>\n",
       "      <td>Pave</td>\n",
       "      <td>No Alley</td>\n",
       "      <td>Reg</td>\n",
       "      <td>Lvl</td>\n",
       "      <td>AllPub</td>\n",
       "      <td>Inside</td>\n",
       "      <td>...</td>\n",
       "      <td>0</td>\n",
       "      <td>0</td>\n",
       "      <td>NoPool</td>\n",
       "      <td>MnPrv</td>\n",
       "      <td>Nofeature</td>\n",
       "      <td>0</td>\n",
       "      <td>2</td>\n",
       "      <td>2010</td>\n",
       "      <td>WD</td>\n",
       "      <td>Normal</td>\n",
       "    </tr>\n",
       "  </tbody>\n",
       "</table>\n",
       "<p>1015 rows × 79 columns</p>\n",
       "</div>"
      ],
      "text/plain": [
       "      MSSubClass MSZoning  LotFrontage  LotArea Street     Alley LotShape  \\\n",
       "0             60       RL         65.0     8450   Pave  No Alley      Reg   \n",
       "2             60       RL         68.0    11250   Pave  No Alley      IR1   \n",
       "4             60       RL         84.0    14260   Pave  No Alley      IR1   \n",
       "6             20       RL         75.0    10084   Pave  No Alley      Reg   \n",
       "10            20       RL         70.0    11200   Pave  No Alley      Reg   \n",
       "...          ...      ...          ...      ...    ...       ...      ...   \n",
       "1452         180       RM         35.0     3675   Pave  No Alley      Reg   \n",
       "1453          20       RL         90.0    17217   Pave  No Alley      Reg   \n",
       "1454          20       FV         62.0     7500   Pave      Pave      Reg   \n",
       "1455          60       RL         62.0     7917   Pave  No Alley      Reg   \n",
       "1456          20       RL         85.0    13175   Pave  No Alley      Reg   \n",
       "\n",
       "     LandContour Utilities LotConfig  ... ScreenPorch PoolArea  PoolQC  \\\n",
       "0            Lvl    AllPub    Inside  ...           0        0  NoPool   \n",
       "2            Lvl    AllPub    Inside  ...           0        0  NoPool   \n",
       "4            Lvl    AllPub       FR2  ...           0        0  NoPool   \n",
       "6            Lvl    AllPub    Inside  ...           0        0  NoPool   \n",
       "10           Lvl    AllPub    Inside  ...           0        0  NoPool   \n",
       "...          ...       ...       ...  ...         ...      ...     ...   \n",
       "1452         Lvl    AllPub    Inside  ...           0        0  NoPool   \n",
       "1453         Lvl    AllPub    Inside  ...           0        0  NoPool   \n",
       "1454         Lvl    AllPub    Inside  ...           0        0  NoPool   \n",
       "1455         Lvl    AllPub    Inside  ...           0        0  NoPool   \n",
       "1456         Lvl    AllPub    Inside  ...           0        0  NoPool   \n",
       "\n",
       "        Fence MiscFeature MiscVal  MoSold  YrSold  SaleType  SaleCondition  \n",
       "0     NoFence   Nofeature       0       2    2008        WD         Normal  \n",
       "2     NoFence   Nofeature       0       9    2008        WD         Normal  \n",
       "4     NoFence   Nofeature       0      12    2008        WD         Normal  \n",
       "6     NoFence   Nofeature       0       8    2007        WD         Normal  \n",
       "10    NoFence   Nofeature       0       2    2008        WD         Normal  \n",
       "...       ...         ...     ...     ...     ...       ...            ...  \n",
       "1452  NoFence   Nofeature       0       5    2006        WD         Normal  \n",
       "1453  NoFence   Nofeature       0       7    2006        WD        Abnorml  \n",
       "1454  NoFence   Nofeature       0      10    2009        WD         Normal  \n",
       "1455  NoFence   Nofeature       0       8    2007        WD         Normal  \n",
       "1456    MnPrv   Nofeature       0       2    2010        WD         Normal  \n",
       "\n",
       "[1015 rows x 79 columns]"
      ]
     },
     "execution_count": 11,
     "metadata": {},
     "output_type": "execute_result"
    }
   ],
   "source": [
    "X"
   ]
  },
  {
   "cell_type": "code",
   "execution_count": 12,
   "id": "6e3f478d",
   "metadata": {},
   "outputs": [
    {
     "data": {
      "text/plain": [
       "0       208500\n",
       "2       223500\n",
       "4       250000\n",
       "6       307000\n",
       "10      129500\n",
       "         ...  \n",
       "1452    145000\n",
       "1453     84500\n",
       "1454    185000\n",
       "1455    175000\n",
       "1456    210000\n",
       "Name: SalePrice, Length: 1015, dtype: int64"
      ]
     },
     "execution_count": 12,
     "metadata": {},
     "output_type": "execute_result"
    }
   ],
   "source": [
    "Y"
   ]
  },
  {
   "cell_type": "code",
   "execution_count": 13,
   "id": "bf5a4408",
   "metadata": {},
   "outputs": [
    {
     "data": {
      "text/plain": [
       "(1015, 79)"
      ]
     },
     "execution_count": 13,
     "metadata": {},
     "output_type": "execute_result"
    }
   ],
   "source": [
    "X.shape"
   ]
  },
  {
   "cell_type": "code",
   "execution_count": 14,
   "id": "01a94e2a",
   "metadata": {},
   "outputs": [],
   "source": [
    "X.index = range(0,1015,1)\n",
    "Y.index = range(0,1015,1)"
   ]
  },
  {
   "cell_type": "code",
   "execution_count": 15,
   "id": "894732ed",
   "metadata": {
    "scrolled": true
   },
   "outputs": [
    {
     "data": {
      "text/plain": [
       "0       208500\n",
       "1       223500\n",
       "2       250000\n",
       "3       307000\n",
       "4       129500\n",
       "         ...  \n",
       "1010    145000\n",
       "1011     84500\n",
       "1012    185000\n",
       "1013    175000\n",
       "1014    210000\n",
       "Name: SalePrice, Length: 1015, dtype: int64"
      ]
     },
     "execution_count": 15,
     "metadata": {},
     "output_type": "execute_result"
    }
   ],
   "source": [
    "Y"
   ]
  },
  {
   "cell_type": "code",
   "execution_count": 16,
   "id": "88dbf3cd",
   "metadata": {},
   "outputs": [],
   "source": [
    "cat = []\n",
    "con = []\n",
    "for i in X.columns:\n",
    "    if(X[i].dtypes != \"object\"):\n",
    "        con.append(i)\n",
    "    else:\n",
    "        cat.append(i)"
   ]
  },
  {
   "cell_type": "markdown",
   "id": "9e1e4b61",
   "metadata": {},
   "source": [
    "# Preprocessing"
   ]
  },
  {
   "cell_type": "code",
   "execution_count": 17,
   "id": "310615b0",
   "metadata": {},
   "outputs": [],
   "source": [
    "from sklearn.preprocessing import StandardScaler\n",
    "ss = StandardScaler()\n",
    "X1 = pd.DataFrame(ss.fit_transform(X[con]),columns = con)\n",
    "X2 = pd.get_dummies(X[cat])\n",
    "Xnew = X1.join(X2)"
   ]
  },
  {
   "cell_type": "markdown",
   "id": "999051ee",
   "metadata": {},
   "source": [
    "# Divide data"
   ]
  },
  {
   "cell_type": "code",
   "execution_count": 18,
   "id": "e19652e6",
   "metadata": {},
   "outputs": [],
   "source": [
    "from sklearn.model_selection import train_test_split\n",
    "xtrain,xtest,ytrain,ytest = train_test_split(Xnew,Y,test_size=0.2,random_state=31)"
   ]
  },
  {
   "cell_type": "markdown",
   "id": "e2a61df8",
   "metadata": {},
   "source": [
    "# Create a backward Elemintion OLS model"
   ]
  },
  {
   "cell_type": "code",
   "execution_count": 19,
   "id": "04eadf5e",
   "metadata": {},
   "outputs": [
    {
     "data": {
      "text/plain": [
       "(1015, 274)"
      ]
     },
     "execution_count": 19,
     "metadata": {},
     "output_type": "execute_result"
    }
   ],
   "source": [
    "Xnew.shape"
   ]
  },
  {
   "cell_type": "code",
   "execution_count": 20,
   "id": "09cafccc",
   "metadata": {},
   "outputs": [
    {
     "name": "stdout",
     "output_type": "stream",
     "text": [
      "Col dropped:  SaleType_Con \n",
      "Rsq:  0.9332\n"
     ]
    }
   ],
   "source": [
    "from statsmodels.api import OLS, add_constant\n",
    "xconst = add_constant(xtrain)\n",
    "ols = OLS(ytrain,xconst)\n",
    "model = ols.fit()\n",
    "model.summary()\n",
    "#rsq = model.rsquared_adj\n",
    "col_to_drop = model.pvalues.sort_values().index[-1]\n",
    "print(\"Col dropped: \",col_to_drop, \"\\nRsq: \",round(model.rsquared_adj,4))\n",
    "\n",
    "#prev_rsqd = model.rsquared_adj\n",
    "Xnew = Xnew.drop(labels =col_to_drop, axis=1)\n"
   ]
  },
  {
   "cell_type": "code",
   "execution_count": 21,
   "id": "5d6b04b2",
   "metadata": {
    "scrolled": true
   },
   "outputs": [
    {
     "name": "stdout",
     "output_type": "stream",
     "text": [
      "Col dropped:  Exterior1st_Stucco \n",
      "Rsq:  0.9332\n"
     ]
    }
   ],
   "source": [
    "xtrain,xtest,ytrain,ytest = train_test_split(Xnew,Y,test_size=0.2,random_state=31)\n",
    "\n",
    "from statsmodels.api import OLS, add_constant\n",
    "xconst = add_constant(xtrain)\n",
    "ols = OLS(ytrain,xconst)\n",
    "model = ols.fit()\n",
    "model.summary()\n",
    "#rsq = model.rsquared_adj\n",
    "col_to_drop = model.pvalues.sort_values().index[-1]\n",
    "print(\"Col dropped: \",col_to_drop, \"\\nRsq: \",round(model.rsquared_adj,4))\n",
    "\n"
   ]
  },
  {
   "cell_type": "code",
   "execution_count": 22,
   "id": "80b7c696",
   "metadata": {
    "scrolled": false
   },
   "outputs": [
    {
     "data": {
      "text/plain": [
       "GrLivArea               2.004035e-26\n",
       "2ndFlrSF                8.126429e-13\n",
       "BsmtFinSF1              4.961029e-10\n",
       "OverallCond             4.800284e-09\n",
       "Neighborhood_StoneBr    1.064409e-08\n",
       "                            ...     \n",
       "RoofStyle_Hip           9.768876e-01\n",
       "Foundation_Wood         9.781568e-01\n",
       "RoofStyle_Gambrel       9.856750e-01\n",
       "TotRmsAbvGrd            9.857178e-01\n",
       "Exterior1st_Stucco      9.962341e-01\n",
       "Length: 273, dtype: float64"
      ]
     },
     "execution_count": 22,
     "metadata": {},
     "output_type": "execute_result"
    }
   ],
   "source": [
    "model.pvalues.sort_values()"
   ]
  },
  {
   "cell_type": "code",
   "execution_count": 23,
   "id": "a4769c72",
   "metadata": {},
   "outputs": [
    {
     "name": "stdout",
     "output_type": "stream",
     "text": [
      "Col dropped:  TotRmsAbvGrd \n",
      "Rsq:  0.9332\n",
      "Col dropped:  RoofStyle_Gambrel \n",
      "Rsq:  0.9334\n",
      "Col dropped:  RoofStyle_Gable \n",
      "Rsq:  0.9334\n",
      "Col dropped:  Foundation_Wood \n",
      "Rsq:  0.9335\n",
      "Col dropped:  Foundation_Stone \n",
      "Rsq:  0.9335\n",
      "Col dropped:  BsmtFinType1_Rec \n",
      "Rsq:  0.9336\n",
      "Col dropped:  YrSold \n",
      "Rsq:  0.9336\n",
      "Col dropped:  BsmtHalfBath \n",
      "Rsq:  0.9337\n",
      "Col dropped:  Neighborhood_IDOTRR \n",
      "Rsq:  0.9337\n",
      "Col dropped:  Neighborhood_Somerst \n",
      "Rsq:  0.9337\n",
      "Col dropped:  BldgType_Twnhs \n",
      "Rsq:  0.9338\n",
      "Col dropped:  Exterior2nd_Stone \n",
      "Rsq:  0.9338\n",
      "Col dropped:  Exterior2nd_AsbShng \n",
      "Rsq:  0.9338\n",
      "Col dropped:  Exterior2nd_BrkFace \n",
      "Rsq:  0.9338\n",
      "Col dropped:  PoolArea \n",
      "Rsq:  0.9339\n",
      "Col dropped:  SaleCondition_Normal \n",
      "Rsq:  0.9339\n",
      "Col dropped:  BsmtFinType1_ALQ \n",
      "Rsq:  0.9339\n",
      "Col dropped:  MiscFeature_Shed \n",
      "Rsq:  0.934\n",
      "Col dropped:  Electrical_FuseP \n",
      "Rsq:  0.934\n",
      "Col dropped:  HouseStyle_1.5Fin \n",
      "Rsq:  0.934\n",
      "Col dropped:  Foundation_BrkTil \n",
      "Rsq:  0.934\n",
      "Col dropped:  HalfBath \n",
      "Rsq:  0.9341\n",
      "Col dropped:  BsmtFinType2_Unf \n",
      "Rsq:  0.9342\n",
      "Col dropped:  Condition2_Feedr \n",
      "Rsq:  0.9342\n",
      "Col dropped:  Condition1_RRNe \n",
      "Rsq:  0.9342\n",
      "Col dropped:  Alley_Pave \n",
      "Rsq:  0.9342\n",
      "Col dropped:  KitchenAbvGr \n",
      "Rsq:  0.9342\n",
      "Col dropped:  RoofStyle_Hip \n",
      "Rsq:  0.9342\n",
      "Col dropped:  BsmtCond_Fa \n",
      "Rsq:  0.9343\n",
      "Col dropped:  Condition2_RRNn \n",
      "Rsq:  0.9343\n"
     ]
    }
   ],
   "source": [
    "for i in range(0,30):\n",
    "    Xnew = Xnew.drop(labels =col_to_drop, axis=1)\n",
    "    xtrain,xtest,ytrain,ytest = train_test_split(Xnew,Y,test_size=0.2,random_state=31)\n",
    "\n",
    "    from statsmodels.api import OLS, add_constant\n",
    "    xconst = add_constant(xtrain)\n",
    "    ols = OLS(ytrain,xconst)\n",
    "    model = ols.fit()\n",
    "    model.summary()\n",
    "    #rsq = model.rsquared_adj\n",
    "    col_to_drop = model.pvalues.sort_values().index[-1]\n",
    "    print(\"Col dropped: \",col_to_drop, \"\\nRsq: \",round(model.rsquared_adj,4))\n",
    "     "
   ]
  },
  {
   "cell_type": "code",
   "execution_count": 24,
   "id": "ccb377ea",
   "metadata": {},
   "outputs": [
    {
     "name": "stdout",
     "output_type": "stream",
     "text": [
      "Col dropped:  BsmtExposure_Mn \n",
      "Rsq:  0.9343\n",
      "Col dropped:  BsmtExposure_No \n",
      "Rsq:  0.9343\n",
      "Col dropped:  Condition1_PosA \n",
      "Rsq:  0.9344\n",
      "Col dropped:  Condition1_Artery \n",
      "Rsq:  0.9345\n",
      "Col dropped:  Exterior2nd_Brk Cmn \n",
      "Rsq:  0.9346\n",
      "Col dropped:  Heating_GasA \n",
      "Rsq:  0.9347\n",
      "Col dropped:  RoofStyle_Flat \n",
      "Rsq:  0.9347\n",
      "Col dropped:  RoofMatl_Tar&Grv \n",
      "Rsq:  0.9347\n",
      "Col dropped:  Condition2_Norm \n",
      "Rsq:  0.9347\n",
      "Col dropped:  GarageCond_TA \n",
      "Rsq:  0.9348\n",
      "Col dropped:  Exterior2nd_ImStucc \n",
      "Rsq:  0.9348\n",
      "Col dropped:  Exterior2nd_Plywood \n",
      "Rsq:  0.9349\n",
      "Col dropped:  GarageCond_Gd \n",
      "Rsq:  0.935\n",
      "Col dropped:  Heating_Floor \n",
      "Rsq:  0.9351\n",
      "Col dropped:  LandSlope_Sev \n",
      "Rsq:  0.9351\n",
      "Col dropped:  LandSlope_Gtl \n",
      "Rsq:  0.9351\n",
      "Col dropped:  Exterior1st_MetalSd \n",
      "Rsq:  0.9352\n",
      "Col dropped:  Exterior1st_VinylSd \n",
      "Rsq:  0.9353\n",
      "Col dropped:  Exterior2nd_Wd Shng \n",
      "Rsq:  0.9354\n",
      "Col dropped:  KitchenQual_Fa \n",
      "Rsq:  0.9355\n",
      "Col dropped:  KitchenQual_TA \n",
      "Rsq:  0.9355\n",
      "Col dropped:  Neighborhood_Blueste \n",
      "Rsq:  0.9356\n",
      "Col dropped:  ExterQual_TA \n",
      "Rsq:  0.9357\n",
      "Col dropped:  BsmtFinType1_BLQ \n",
      "Rsq:  0.9357\n",
      "Col dropped:  BldgType_2fmCon \n",
      "Rsq:  0.9358\n",
      "Col dropped:  BldgType_1Fam \n",
      "Rsq:  0.9359\n",
      "Col dropped:  BedroomAbvGr \n",
      "Rsq:  0.936\n",
      "Col dropped:  GarageType_Detchd \n",
      "Rsq:  0.9361\n",
      "Col dropped:  GarageYrBlt \n",
      "Rsq:  0.9361\n",
      "Col dropped:  GarageQual_Po \n",
      "Rsq:  0.9362\n"
     ]
    }
   ],
   "source": [
    "for i in range(0,30):\n",
    "    Xnew = Xnew.drop(labels =col_to_drop, axis=1)\n",
    "    xtrain,xtest,ytrain,ytest = train_test_split(Xnew,Y,test_size=0.2,random_state=31)\n",
    "\n",
    "    from statsmodels.api import OLS, add_constant\n",
    "    xconst = add_constant(xtrain)\n",
    "    ols = OLS(ytrain,xconst)\n",
    "    model = ols.fit()\n",
    "    model.summary()\n",
    "    #rsq = model.rsquared_adj\n",
    "    col_to_drop = model.pvalues.sort_values().index[-1]\n",
    "    print(\"Col dropped: \",col_to_drop, \"\\nRsq: \",round(model.rsquared_adj,4))"
   ]
  },
  {
   "cell_type": "code",
   "execution_count": 25,
   "id": "23249f09",
   "metadata": {},
   "outputs": [
    {
     "name": "stdout",
     "output_type": "stream",
     "text": [
      "Col dropped:  GarageQual_Fa \n",
      "Rsq:  0.9362\n",
      "Col dropped:  LowQualFinSF \n",
      "Rsq:  0.9363\n",
      "Col dropped:  GrLivArea \n",
      "Rsq:  0.9363\n",
      "Col dropped:  Neighborhood_SawyerW \n",
      "Rsq:  0.9364\n",
      "Col dropped:  Exterior2nd_Other \n",
      "Rsq:  0.9364\n",
      "Col dropped:  LotConfig_FR2 \n",
      "Rsq:  0.9365\n",
      "Col dropped:  KitchenQual_Gd \n",
      "Rsq:  0.9365\n",
      "Col dropped:  Exterior1st_Plywood \n",
      "Rsq:  0.9366\n",
      "Col dropped:  Neighborhood_MeadowV \n",
      "Rsq:  0.9367\n",
      "Col dropped:  LotShape_IR3 \n",
      "Rsq:  0.9367\n",
      "Col dropped:  RoofMatl_WdShngl \n",
      "Rsq:  0.9367\n",
      "Col dropped:  Functional_Maj2 \n",
      "Rsq:  0.9368\n",
      "Col dropped:  MSZoning_RM \n",
      "Rsq:  0.9368\n",
      "Col dropped:  HouseStyle_1.5Unf \n",
      "Rsq:  0.9368\n",
      "Col dropped:  MasVnrType_BrkCmn \n",
      "Rsq:  0.9369\n",
      "Col dropped:  MasVnrType_BrkFace \n",
      "Rsq:  0.9369\n",
      "Col dropped:  MasVnrType_None \n",
      "Rsq:  0.937\n",
      "Col dropped:  BsmtFinType2_BLQ \n",
      "Rsq:  0.9371\n",
      "Col dropped:  BsmtFinSF2 \n",
      "Rsq:  0.9371\n",
      "Col dropped:  Street_Pave \n",
      "Rsq:  0.9371\n",
      "Col dropped:  Functional_Mod \n",
      "Rsq:  0.9371\n",
      "Col dropped:  Electrical_FuseF \n",
      "Rsq:  0.9372\n",
      "Col dropped:  Electrical_FuseA \n",
      "Rsq:  0.9372\n",
      "Col dropped:  Fence_GdPrv \n",
      "Rsq:  0.9373\n",
      "Col dropped:  Fence_GdWo \n",
      "Rsq:  0.9373\n",
      "Col dropped:  Fence_NoFence \n",
      "Rsq:  0.9374\n",
      "Col dropped:  Foundation_Slab \n",
      "Rsq:  0.9374\n",
      "Col dropped:  Foundation_PConc \n",
      "Rsq:  0.9375\n",
      "Col dropped:  Foundation_CBlock \n",
      "Rsq:  0.9376\n",
      "Col dropped:  FireplaceQu_Ex \n",
      "Rsq:  0.9376\n"
     ]
    }
   ],
   "source": [
    "for i in range(0,30):\n",
    "    Xnew = Xnew.drop(labels =col_to_drop, axis=1)\n",
    "    xtrain,xtest,ytrain,ytest = train_test_split(Xnew,Y,test_size=0.2,random_state=31)\n",
    "\n",
    "    from statsmodels.api import OLS, add_constant\n",
    "    xconst = add_constant(xtrain)\n",
    "    ols = OLS(ytrain,xconst)\n",
    "    model = ols.fit()\n",
    "    model.summary()\n",
    "    #rsq = model.rsquared_adj\n",
    "    col_to_drop = model.pvalues.sort_values().index[-1]\n",
    "    print(\"Col dropped: \",col_to_drop, \"\\nRsq: \",round(model.rsquared_adj,4))"
   ]
  },
  {
   "cell_type": "code",
   "execution_count": 26,
   "id": "7bbdc74e",
   "metadata": {},
   "outputs": [
    {
     "name": "stdout",
     "output_type": "stream",
     "text": [
      "Col dropped:  FireplaceQu_Fa \n",
      "Rsq:  0.9376\n",
      "Col dropped:  HeatingQC_Gd \n",
      "Rsq:  0.9377\n",
      "Col dropped:  HeatingQC_TA \n",
      "Rsq:  0.9377\n",
      "Col dropped:  HeatingQC_Fa \n",
      "Rsq:  0.9378\n",
      "Col dropped:  HouseStyle_2Story \n",
      "Rsq:  0.9379\n",
      "Col dropped:  Heating_GasW \n",
      "Rsq:  0.9379\n",
      "Col dropped:  GarageType_Basment \n",
      "Rsq:  0.938\n",
      "Col dropped:  BsmtUnfSF \n",
      "Rsq:  0.9381\n",
      "Col dropped:  Neighborhood_Sawyer \n",
      "Rsq:  0.9381\n",
      "Col dropped:  Neighborhood_SWISU \n",
      "Rsq:  0.9382\n",
      "Col dropped:  MSZoning_RH \n",
      "Rsq:  0.9382\n",
      "Col dropped:  Alley_No Alley \n",
      "Rsq:  0.9383\n",
      "Col dropped:  MSZoning_RL \n",
      "Rsq:  0.9383\n",
      "Col dropped:  Neighborhood_ClearCr \n",
      "Rsq:  0.9384\n",
      "Col dropped:  BsmtFinType2_Rec \n",
      "Rsq:  0.9385\n",
      "Col dropped:  LotFrontage \n",
      "Rsq:  0.9385\n",
      "Col dropped:  HouseStyle_2.5Unf \n",
      "Rsq:  0.9386\n",
      "Col dropped:  BsmtExposure_Av \n",
      "Rsq:  0.9386\n",
      "Col dropped:  Fence_MnPrv \n",
      "Rsq:  0.9387\n",
      "Col dropped:  PavedDrive_P \n",
      "Rsq:  0.9387\n",
      "Col dropped:  Exterior1st_ImStucc \n",
      "Rsq:  0.9387\n",
      "Col dropped:  Neighborhood_Veenker \n",
      "Rsq:  0.9387\n",
      "Col dropped:  BsmtCond_Gd \n",
      "Rsq:  0.9388\n",
      "Col dropped:  BsmtFinType2_LwQ \n",
      "Rsq:  0.9388\n",
      "Col dropped:  RoofMatl_CompShg \n",
      "Rsq:  0.9389\n",
      "Col dropped:  ExterCond_Fa \n",
      "Rsq:  0.9389\n",
      "Col dropped:  BsmtQual_Gd \n",
      "Rsq:  0.9389\n",
      "Col dropped:  BsmtQual_TA \n",
      "Rsq:  0.9389\n",
      "Col dropped:  LotShape_IR1 \n",
      "Rsq:  0.939\n",
      "Col dropped:  LotShape_IR2 \n",
      "Rsq:  0.939\n"
     ]
    }
   ],
   "source": [
    "for i in range(0,30):\n",
    "    Xnew = Xnew.drop(labels =col_to_drop, axis=1)\n",
    "    xtrain,xtest,ytrain,ytest = train_test_split(Xnew,Y,test_size=0.2,random_state=31)\n",
    "\n",
    "    from statsmodels.api import OLS, add_constant\n",
    "    xconst = add_constant(xtrain)\n",
    "    ols = OLS(ytrain,xconst)\n",
    "    model = ols.fit()\n",
    "    model.summary()\n",
    "    #rsq = model.rsquared_adj\n",
    "    col_to_drop = model.pvalues.sort_values().index[-1]\n",
    "    print(\"Col dropped: \",col_to_drop, \"\\nRsq: \",round(model.rsquared_adj,4))"
   ]
  },
  {
   "cell_type": "code",
   "execution_count": 27,
   "id": "7de496ca",
   "metadata": {},
   "outputs": [
    {
     "name": "stdout",
     "output_type": "stream",
     "text": [
      "Col dropped:  LotShape_Reg \n",
      "Rsq:  0.9391\n",
      "Col dropped:  FullBath \n",
      "Rsq:  0.9391\n",
      "Col dropped:  RoofStyle_Mansard \n",
      "Rsq:  0.9392\n",
      "Col dropped:  BsmtFinType2_GLQ \n",
      "Rsq:  0.9392\n",
      "Col dropped:  GarageCond_Fa \n",
      "Rsq:  0.9392\n",
      "Col dropped:  HeatingQC_Ex \n",
      "Rsq:  0.9392\n",
      "Col dropped:  Electrical_SBrkr \n",
      "Rsq:  0.9392\n",
      "Col dropped:  SaleType_COD \n",
      "Rsq:  0.9392\n",
      "Col dropped:  SaleType_ConLI \n",
      "Rsq:  0.9392\n",
      "Col dropped:  SaleType_WD \n",
      "Rsq:  0.9393\n",
      "Col dropped:  MiscFeature_Nofeature \n",
      "Rsq:  0.9394\n",
      "Col dropped:  MiscVal \n",
      "Rsq:  0.9394\n",
      "Col dropped:  ExterQual_Fa \n",
      "Rsq:  0.9395\n",
      "Col dropped:  LotConfig_FR3 \n",
      "Rsq:  0.9395\n",
      "Col dropped:  Condition1_RRNn \n",
      "Rsq:  0.9395\n",
      "Col dropped:  Exterior2nd_CBlock \n",
      "Rsq:  0.9395\n",
      "Col dropped:  Exterior1st_CBlock \n",
      "Rsq:  0.9395\n",
      "Col dropped:  SaleCondition_Family \n",
      "Rsq:  0.9395\n",
      "Col dropped:  SaleType_Oth \n",
      "Rsq:  0.9395\n",
      "Col dropped:  GarageCond_Po \n",
      "Rsq:  0.9395\n"
     ]
    }
   ],
   "source": [
    "for i in range(0,20):\n",
    "    Xnew = Xnew.drop(labels =col_to_drop, axis=1)\n",
    "    xtrain,xtest,ytrain,ytest = train_test_split(Xnew,Y,test_size=0.2,random_state=31)\n",
    "\n",
    "    from statsmodels.api import OLS, add_constant\n",
    "    xconst = add_constant(xtrain)\n",
    "    ols = OLS(ytrain,xconst)\n",
    "    model = ols.fit()\n",
    "    model.summary()\n",
    "    #rsq = model.rsquared_adj\n",
    "    col_to_drop = model.pvalues.sort_values().index[-1]\n",
    "    print(\"Col dropped: \",col_to_drop, \"\\nRsq: \",round(model.rsquared_adj,4))"
   ]
  },
  {
   "cell_type": "code",
   "execution_count": 28,
   "id": "4d5778ff",
   "metadata": {
    "scrolled": false
   },
   "outputs": [
    {
     "name": "stdout",
     "output_type": "stream",
     "text": [
      "Col dropped:  Heating_Grav \n",
      "Rsq:  0.9395\n",
      "Col dropped:  Street_Grvl \n",
      "Rsq:  0.9395\n",
      "Col dropped:  BsmtCond_TA \n",
      "Rsq:  0.9395\n",
      "Col dropped:  GarageCond_Ex \n",
      "Rsq:  0.9395\n",
      "Col dropped:  GarageQual_Ex \n",
      "Rsq:  0.9395\n"
     ]
    }
   ],
   "source": [
    "for i in range(0,5):\n",
    "    Xnew = Xnew.drop(labels =col_to_drop, axis=1)\n",
    "    xtrain,xtest,ytrain,ytest = train_test_split(Xnew,Y,test_size=0.2,random_state=31)\n",
    "\n",
    "    from statsmodels.api import OLS, add_constant\n",
    "    xconst = add_constant(xtrain)\n",
    "    ols = OLS(ytrain,xconst)\n",
    "    model = ols.fit()\n",
    "    model.summary()\n",
    "    #rsq = model.rsquared_adj\n",
    "    col_to_drop = model.pvalues.sort_values().index[-1]\n",
    "    print(\"Col dropped: \",col_to_drop, \"\\nRsq: \",round(model.rsquared_adj,4))"
   ]
  },
  {
   "cell_type": "code",
   "execution_count": 29,
   "id": "32cc9bcb",
   "metadata": {},
   "outputs": [
    {
     "data": {
      "text/plain": [
       "(1015, 128)"
      ]
     },
     "execution_count": 29,
     "metadata": {},
     "output_type": "execute_result"
    }
   ],
   "source": [
    "Xnew.shape"
   ]
  },
  {
   "cell_type": "markdown",
   "id": "db50d650",
   "metadata": {},
   "source": [
    "# Create Linear model"
   ]
  },
  {
   "cell_type": "code",
   "execution_count": 30,
   "id": "6daaa2df",
   "metadata": {},
   "outputs": [],
   "source": [
    "from sklearn.linear_model import LinearRegression\n",
    "lm = LinearRegression()\n",
    "model = lm.fit(xtrain,ytrain)\n",
    "tr_pred = model.predict(xtrain)\n",
    "ts_pred = model.predict(xtest)\n",
    "\n",
    "from sklearn.metrics import mean_squared_error\n",
    "tr_err = mean_squared_error(ytrain, tr_pred)      # bias\n",
    "ts_err = mean_squared_error(ytest, ts_pred)     # variance"
   ]
  },
  {
   "cell_type": "code",
   "execution_count": 31,
   "id": "5b5b210d",
   "metadata": {},
   "outputs": [
    {
     "data": {
      "text/plain": [
       "213343373.26477832"
      ]
     },
     "execution_count": 31,
     "metadata": {},
     "output_type": "execute_result"
    }
   ],
   "source": [
    "tr_err"
   ]
  },
  {
   "cell_type": "code",
   "execution_count": 32,
   "id": "6a71693b",
   "metadata": {},
   "outputs": [
    {
     "data": {
      "text/plain": [
       "2.800391567310127e+30"
      ]
     },
     "execution_count": 32,
     "metadata": {},
     "output_type": "execute_result"
    }
   ],
   "source": [
    "ts_err"
   ]
  },
  {
   "cell_type": "markdown",
   "id": "4a9a2c87",
   "metadata": {},
   "source": [
    "# Regularize"
   ]
  },
  {
   "cell_type": "code",
   "execution_count": 33,
   "id": "9b2c173b",
   "metadata": {},
   "outputs": [],
   "source": [
    "# RIDGE\n",
    "\n",
    "a = []\n",
    "b = 0\n",
    "for i in range(0,4000,1):\n",
    "    b = b + 0.001\n",
    "    b = round(b,4)\n",
    "    a.append(b)    "
   ]
  },
  {
   "cell_type": "code",
   "execution_count": 34,
   "id": "fd45f34c",
   "metadata": {},
   "outputs": [
    {
     "data": {
      "text/plain": [
       "4.0"
      ]
     },
     "execution_count": 34,
     "metadata": {},
     "output_type": "execute_result"
    }
   ],
   "source": [
    "a[-1]"
   ]
  },
  {
   "cell_type": "code",
   "execution_count": 35,
   "id": "02978d87",
   "metadata": {},
   "outputs": [],
   "source": [
    "from sklearn.linear_model import Ridge\n",
    "tr = []\n",
    "ts = []\n",
    "for i in a:\n",
    "    rr = Ridge(alpha = i)\n",
    "    model = rr.fit(xtrain,ytrain)\n",
    "    tr_pred = model.predict(xtrain)\n",
    "    ts_pred = model.predict(xtest)\n",
    "    \n",
    "    from sklearn.metrics import mean_squared_error\n",
    "    tr_err = mean_squared_error(ytrain,tr_pred)\n",
    "    ts_err = mean_squared_error(ytest,ts_pred)\n",
    "    tr.append(tr_err)\n",
    "    ts.append(ts_err)"
   ]
  },
  {
   "cell_type": "code",
   "execution_count": 36,
   "id": "3812991d",
   "metadata": {},
   "outputs": [
    {
     "data": {
      "text/plain": [
       "[<matplotlib.lines.Line2D at 0x268bd1fc6d0>]"
      ]
     },
     "execution_count": 36,
     "metadata": {},
     "output_type": "execute_result"
    },
    {
     "data": {
      "image/png": "[encoded data removed]",
      "text/plain": [
       "<Figure size 432x288 with 1 Axes>"
      ]
     },
     "metadata": {
      "needs_background": "light"
     },
     "output_type": "display_data"
    }
   ],
   "source": [
    "t = range(0,4000,1)\n",
    "import matplotlib.pyplot as plt\n",
    "plt.plot(t,tr, c= \"red\")\n",
    "plt.plot(t,ts, c = \"blue\")"
   ]
  },
  {
   "cell_type": "code",
   "execution_count": 37,
   "id": "13deafa2",
   "metadata": {},
   "outputs": [
    {
     "data": {
      "text/plain": [
       "235151297.29625645"
      ]
     },
     "execution_count": 37,
     "metadata": {},
     "output_type": "execute_result"
    }
   ],
   "source": [
    "tr_err"
   ]
  },
  {
   "cell_type": "code",
   "execution_count": 38,
   "id": "c20b1e4c",
   "metadata": {},
   "outputs": [
    {
     "data": {
      "text/plain": [
       "241664150.88642538"
      ]
     },
     "execution_count": 38,
     "metadata": {},
     "output_type": "execute_result"
    }
   ],
   "source": [
    "ts_err"
   ]
  },
  {
   "cell_type": "code",
   "execution_count": 39,
   "id": "938fa37d",
   "metadata": {},
   "outputs": [],
   "source": [
    "rr =Ridge(alpha = 4)\n",
    "model = rr.fit(xtrain,ytrain)"
   ]
  },
  {
   "cell_type": "code",
   "execution_count": 40,
   "id": "83e9c928",
   "metadata": {},
   "outputs": [],
   "source": [
    "# LASSO\n",
    "\n",
    "a = []\n",
    "b = 0\n",
    "for i in range(0,1000,1):\n",
    "    b = b + 0.01\n",
    "    b = round(b,4)\n",
    "    a.append(b)    "
   ]
  },
  {
   "cell_type": "code",
   "execution_count": 41,
   "id": "7c315ffe",
   "metadata": {},
   "outputs": [
    {
     "data": {
      "text/plain": [
       "10.0"
      ]
     },
     "execution_count": 41,
     "metadata": {},
     "output_type": "execute_result"
    }
   ],
   "source": [
    "a[-1]"
   ]
  },
  {
   "cell_type": "code",
   "execution_count": 42,
   "id": "4357ce6d",
   "metadata": {},
   "outputs": [
    {
     "name": "stderr",
     "output_type": "stream",
     "text": [
      "C:\\ProgramData\\Anaconda3\\lib\\site-packages\\sklearn\\linear_model\\_coordinate_descent.py:647: ConvergenceWarning: Objective did not converge. You might want to increase the number of iterations, check the scale of the features or consider increasing regularisation. Duality gap: 4.509e+08, tolerance: 3.335e+08\n",
      "  model = cd_fast.enet_coordinate_descent(\n",
      "C:\\ProgramData\\Anaconda3\\lib\\site-packages\\sklearn\\linear_model\\_coordinate_descent.py:647: ConvergenceWarning: Objective did not converge. You might want to increase the number of iterations, check the scale of the features or consider increasing regularisation. Duality gap: 4.518e+08, tolerance: 3.335e+08\n",
      "  model = cd_fast.enet_coordinate_descent(\n"
     ]
    }
   ],
   "source": [
    "from sklearn.linear_model import Lasso\n",
    "tr = []\n",
    "ts = []\n",
    "for i in a:\n",
    "    rr = Lasso(alpha = i)\n",
    "    model = rr.fit(xtrain,ytrain)\n",
    "    tr_pred = model.predict(xtrain)\n",
    "    ts_pred = model.predict(xtest)\n",
    "    \n",
    "    from sklearn.metrics import mean_squared_error\n",
    "    tr_err = mean_squared_error(ytrain,tr_pred)\n",
    "    ts_err = mean_squared_error(ytest,ts_pred)\n",
    "    tr.append(tr_err)\n",
    "    ts.append(ts_err)"
   ]
  },
  {
   "cell_type": "code",
   "execution_count": 43,
   "id": "bbe87edb",
   "metadata": {},
   "outputs": [
    {
     "data": {
      "text/plain": [
       "[<matplotlib.lines.Line2D at 0x268bef0c9a0>]"
      ]
     },
     "execution_count": 43,
     "metadata": {},
     "output_type": "execute_result"
    },
    {
     "data": {
      "image/png": "[encoded data removed]",
      "text/plain": [
       "<Figure size 432x288 with 1 Axes>"
      ]
     },
     "metadata": {
      "needs_background": "light"
     },
     "output_type": "display_data"
    }
   ],
   "source": [
    "t = range(0,1000,1)\n",
    "import matplotlib.pyplot as plt\n",
    "plt.plot(t,tr, c= \"red\")\n",
    "plt.plot(t,ts, c = \"blue\")"
   ]
  },
  {
   "cell_type": "code",
   "execution_count": 44,
   "id": "76ed75b5",
   "metadata": {},
   "outputs": [
    {
     "data": {
      "text/plain": [
       "216685534.48740014"
      ]
     },
     "execution_count": 44,
     "metadata": {},
     "output_type": "execute_result"
    }
   ],
   "source": [
    "tr_err"
   ]
  },
  {
   "cell_type": "code",
   "execution_count": 45,
   "id": "043fe180",
   "metadata": {},
   "outputs": [
    {
     "data": {
      "text/plain": [
       "249508953.0330682"
      ]
     },
     "execution_count": 45,
     "metadata": {},
     "output_type": "execute_result"
    }
   ],
   "source": [
    "ts_err"
   ]
  },
  {
   "cell_type": "markdown",
   "id": "1e7865a7",
   "metadata": {},
   "source": [
    "# Cross validation"
   ]
  },
  {
   "cell_type": "code",
   "execution_count": 46,
   "id": "41f89e33",
   "metadata": {},
   "outputs": [],
   "source": [
    "from sklearn.linear_model import LinearRegression\n",
    "lm = LinearRegression()\n",
    "\n",
    "def model_cv(mobj):\n",
    "    model = mobj.fit(xtrain,ytrain)\n",
    "    pred_tr = model.predict(xtrain)\n",
    "    perd_ts = model.predict(xtest)\n",
    "    from sklearn.metrics import mean_squared_error\n",
    "    tr_err = mean_squared_error(ytrain,pred_tr)\n",
    "    ts_err = mean_squared_error(ytest,perd_ts)\n",
    "    return round(tr_err,2), round(ts_err,2)"
   ]
  },
  {
   "cell_type": "code",
   "execution_count": 47,
   "id": "8833eab6",
   "metadata": {},
   "outputs": [
    {
     "data": {
      "text/plain": [
       "(213343373.26, 2.800391567310127e+30)"
      ]
     },
     "execution_count": 47,
     "metadata": {},
     "output_type": "execute_result"
    }
   ],
   "source": [
    "model_cv(lm)"
   ]
  },
  {
   "cell_type": "code",
   "execution_count": 48,
   "id": "a4abbf9a",
   "metadata": {},
   "outputs": [],
   "source": [
    "tunning_grid = {\"alpha\":a}"
   ]
  },
  {
   "cell_type": "code",
   "execution_count": 49,
   "id": "d974ba07",
   "metadata": {},
   "outputs": [],
   "source": [
    "from sklearn.linear_model import Ridge,Lasso\n",
    "rr = Ridge()\n",
    "ls = Lasso()"
   ]
  },
  {
   "cell_type": "code",
   "execution_count": 50,
   "id": "ea695e1a",
   "metadata": {},
   "outputs": [
    {
     "data": {
      "text/plain": [
       "{'alpha': 0.99}"
      ]
     },
     "execution_count": 50,
     "metadata": {},
     "output_type": "execute_result"
    }
   ],
   "source": [
    "from sklearn.model_selection import GridSearchCV\n",
    "\n",
    "cv=GridSearchCV(rr,tunning_grid, scoring =\"neg_mean_squared_error\", cv=4)\n",
    "cvmodel = cv.fit(Xnew, Y)\n",
    "cvmodel.best_params_"
   ]
  },
  {
   "cell_type": "code",
   "execution_count": 51,
   "id": "5b5220c9",
   "metadata": {},
   "outputs": [
    {
     "name": "stderr",
     "output_type": "stream",
     "text": [
      "C:\\ProgramData\\Anaconda3\\lib\\site-packages\\sklearn\\linear_model\\_coordinate_descent.py:647: ConvergenceWarning: Objective did not converge. You might want to increase the number of iterations, check the scale of the features or consider increasing regularisation. Duality gap: 2.216e+09, tolerance: 2.988e+08\n",
      "  model = cd_fast.enet_coordinate_descent(\n",
      "C:\\ProgramData\\Anaconda3\\lib\\site-packages\\sklearn\\linear_model\\_coordinate_descent.py:647: ConvergenceWarning: Objective did not converge. You might want to increase the number of iterations, check the scale of the features or consider increasing regularisation. Duality gap: 1.655e+10, tolerance: 3.167e+08\n",
      "  model = cd_fast.enet_coordinate_descent(\n",
      "C:\\ProgramData\\Anaconda3\\lib\\site-packages\\sklearn\\linear_model\\_coordinate_descent.py:647: ConvergenceWarning: Objective did not converge. You might want to increase the number of iterations, check the scale of the features or consider increasing regularisation. Duality gap: 6.582e+08, tolerance: 2.988e+08\n",
      "  model = cd_fast.enet_coordinate_descent(\n",
      "C:\\ProgramData\\Anaconda3\\lib\\site-packages\\sklearn\\linear_model\\_coordinate_descent.py:647: ConvergenceWarning: Objective did not converge. You might want to increase the number of iterations, check the scale of the features or consider increasing regularisation. Duality gap: 3.119e+08, tolerance: 2.988e+08\n",
      "  model = cd_fast.enet_coordinate_descent(\n"
     ]
    },
    {
     "data": {
      "text/plain": [
       "{'alpha': 7.38}"
      ]
     },
     "execution_count": 51,
     "metadata": {},
     "output_type": "execute_result"
    }
   ],
   "source": [
    "from sklearn.model_selection import GridSearchCV\n",
    "\n",
    "cv=GridSearchCV(ls,tunning_grid, scoring =\"neg_mean_squared_error\", cv=4)\n",
    "cvmodel = cv.fit(Xnew, Y)\n",
    "cvmodel.best_params_"
   ]
  },
  {
   "cell_type": "code",
   "execution_count": 52,
   "id": "914c3ac9",
   "metadata": {},
   "outputs": [
    {
     "data": {
      "text/plain": [
       "(219386605.52, 248262879.58)"
      ]
     },
     "execution_count": 52,
     "metadata": {},
     "output_type": "execute_result"
    }
   ],
   "source": [
    "rr = Ridge(alpha = 0.99)\n",
    "model_cv(rr)"
   ]
  },
  {
   "cell_type": "code",
   "execution_count": 53,
   "id": "f85b143e",
   "metadata": {},
   "outputs": [],
   "source": [
    "#ls = Lasso(alpha = 7.38)\n",
    "#model_cv(ls)"
   ]
  },
  {
   "cell_type": "code",
   "execution_count": 59,
   "id": "2621b578",
   "metadata": {},
   "outputs": [],
   "source": [
    "rr = Ridge(alpha = 0.99)\n",
    "model_final = rr.fit(Xnew,Y)"
   ]
  },
  {
   "cell_type": "markdown",
   "id": "8f9587f8",
   "metadata": {},
   "source": [
    "## Test data "
   ]
  },
  {
   "cell_type": "code",
   "execution_count": 54,
   "id": "7ce39495",
   "metadata": {},
   "outputs": [],
   "source": [
    "xtest = testdata.drop(labels=[\"Id\"],axis = 1)"
   ]
  },
  {
   "cell_type": "code",
   "execution_count": 55,
   "id": "55090fef",
   "metadata": {},
   "outputs": [],
   "source": [
    "cat = []\n",
    "con = []\n",
    "for i in xtest.columns:\n",
    "    if(xtest[i].dtypes != \"object\"):\n",
    "        con.append(i)\n",
    "    else:\n",
    "        cat.append(i)\n",
    "        \n",
    "from sklearn.preprocessing import StandardScaler\n",
    "ss = StandardScaler()\n",
    "X1 = pd.DataFrame(ss.fit_transform(xtest[con]),columns = con)\n",
    "X2 = pd.get_dummies(xtest[cat])\n",
    "xtest_new = X1.join(X2)"
   ]
  },
  {
   "cell_type": "code",
   "execution_count": 56,
   "id": "75f6592a",
   "metadata": {},
   "outputs": [],
   "source": [
    "xtest_new['GarageQual_Ex'] = 0"
   ]
  },
  {
   "cell_type": "code",
   "execution_count": 57,
   "id": "c24928d1",
   "metadata": {},
   "outputs": [],
   "source": [
    "final_xtest = xtest_new[list(xtrain.columns)]"
   ]
  },
  {
   "cell_type": "markdown",
   "id": "607e8845",
   "metadata": {},
   "source": [
    "## Final Model Prediction"
   ]
  },
  {
   "cell_type": "code",
   "execution_count": 60,
   "id": "27e9406f",
   "metadata": {},
   "outputs": [],
   "source": [
    "pred = model_final.predict(final_xtest)"
   ]
  },
  {
   "cell_type": "code",
   "execution_count": 61,
   "id": "1c9bfa5f",
   "metadata": {},
   "outputs": [],
   "source": [
    "B = testdata[[\"Id\"]]"
   ]
  },
  {
   "cell_type": "code",
   "execution_count": 62,
   "id": "3df67c1e",
   "metadata": {},
   "outputs": [
    {
     "name": "stderr",
     "output_type": "stream",
     "text": [
      "C:\\Users\\admin\\AppData\\Local\\Temp\\ipykernel_6272\\3205833840.py:1: SettingWithCopyWarning: \n",
      "A value is trying to be set on a copy of a slice from a DataFrame.\n",
      "Try using .loc[row_indexer,col_indexer] = value instead\n",
      "\n",
      "See the caveats in the documentation: https://pandas.pydata.org/pandas-docs/stable/user_guide/indexing.html#returning-a-view-versus-a-copy\n",
      "  B['SalePrice']=pred\n"
     ]
    }
   ],
   "source": [
    "B['SalePrice']=pred"
   ]
  },
  {
   "cell_type": "code",
   "execution_count": 63,
   "id": "dc7f6ed1",
   "metadata": {},
   "outputs": [
    {
     "data": {
      "text/html": [
       "<div>\n",
       "<style scoped>\n",
       "    .dataframe tbody tr th:only-of-type {\n",
       "        vertical-align: middle;\n",
       "    }\n",
       "\n",
       "    .dataframe tbody tr th {\n",
       "        vertical-align: top;\n",
       "    }\n",
       "\n",
       "    .dataframe thead th {\n",
       "        text-align: right;\n",
       "    }\n",
       "</style>\n",
       "<table border=\"1\" class=\"dataframe\">\n",
       "  <thead>\n",
       "    <tr style=\"text-align: right;\">\n",
       "      <th></th>\n",
       "      <th>Id</th>\n",
       "      <th>SalePrice</th>\n",
       "    </tr>\n",
       "  </thead>\n",
       "  <tbody>\n",
       "    <tr>\n",
       "      <th>0</th>\n",
       "      <td>1461</td>\n",
       "      <td>122849.725876</td>\n",
       "    </tr>\n",
       "    <tr>\n",
       "      <th>1</th>\n",
       "      <td>1462</td>\n",
       "      <td>162792.611554</td>\n",
       "    </tr>\n",
       "    <tr>\n",
       "      <th>2</th>\n",
       "      <td>1463</td>\n",
       "      <td>188432.083219</td>\n",
       "    </tr>\n",
       "    <tr>\n",
       "      <th>3</th>\n",
       "      <td>1464</td>\n",
       "      <td>198087.929934</td>\n",
       "    </tr>\n",
       "    <tr>\n",
       "      <th>4</th>\n",
       "      <td>1465</td>\n",
       "      <td>196378.244563</td>\n",
       "    </tr>\n",
       "    <tr>\n",
       "      <th>...</th>\n",
       "      <td>...</td>\n",
       "      <td>...</td>\n",
       "    </tr>\n",
       "    <tr>\n",
       "      <th>1454</th>\n",
       "      <td>2915</td>\n",
       "      <td>94792.595086</td>\n",
       "    </tr>\n",
       "    <tr>\n",
       "      <th>1455</th>\n",
       "      <td>2916</td>\n",
       "      <td>98450.390885</td>\n",
       "    </tr>\n",
       "    <tr>\n",
       "      <th>1456</th>\n",
       "      <td>2917</td>\n",
       "      <td>171056.060419</td>\n",
       "    </tr>\n",
       "    <tr>\n",
       "      <th>1457</th>\n",
       "      <td>2918</td>\n",
       "      <td>114149.526812</td>\n",
       "    </tr>\n",
       "    <tr>\n",
       "      <th>1458</th>\n",
       "      <td>2919</td>\n",
       "      <td>205771.199020</td>\n",
       "    </tr>\n",
       "  </tbody>\n",
       "</table>\n",
       "<p>1459 rows × 2 columns</p>\n",
       "</div>"
      ],
      "text/plain": [
       "        Id      SalePrice\n",
       "0     1461  122849.725876\n",
       "1     1462  162792.611554\n",
       "2     1463  188432.083219\n",
       "3     1464  198087.929934\n",
       "4     1465  196378.244563\n",
       "...    ...            ...\n",
       "1454  2915   94792.595086\n",
       "1455  2916   98450.390885\n",
       "1456  2917  171056.060419\n",
       "1457  2918  114149.526812\n",
       "1458  2919  205771.199020\n",
       "\n",
       "[1459 rows x 2 columns]"
      ]
     },
     "execution_count": 63,
     "metadata": {},
     "output_type": "execute_result"
    }
   ],
   "source": [
    "B"
   ]
  },
  {
   "cell_type": "code",
   "execution_count": 64,
   "id": "851e6d62",
   "metadata": {},
   "outputs": [],
   "source": [
    "B.to_csv(\"Predicted_model.csv\")"
   ]
  },
  {
   "cell_type": "code",
   "execution_count": null,
   "id": "2c7183f2",
   "metadata": {},
   "outputs": [],
   "source": []
  }
 ],
 "metadata": {
  "kernelspec": {
   "display_name": "Python 3 (ipykernel)",
   "language": "python",
   "name": "python3"
  },
  "language_info": {
   "codemirror_mode": {
    "name": "ipython",
    "version": 3
   },
   "file_extension": ".py",
   "mimetype": "text/x-python",
   "name": "python",
   "nbconvert_exporter": "python",
   "pygments_lexer": "ipython3",
   "version": "3.9.12"
  }
 },
 "nbformat": 4,
 "nbformat_minor": 5
}
